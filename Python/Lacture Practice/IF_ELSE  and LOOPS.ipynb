{
 "cells": [
  {
   "cell_type": "markdown",
   "id": "2fa152a2",
   "metadata": {},
   "source": [
    "## CONDITIONAL STATEMENT"
   ]
  },
  {
   "cell_type": "markdown",
   "id": "26b562c6",
   "metadata": {},
   "source": [
    "An if statement executes a block of code only when the specified condition is met.\n",
    "\n",
    "the else statement executes if the condition in the if statements evaluates to FALSE\n"
   ]
  },
  {
   "cell_type": "code",
   "execution_count": null,
   "id": "63be831c",
   "metadata": {},
   "outputs": [],
   "source": [
    "if (condition):\n",
    "    \n",
    "    \n",
    "    \n",
    "    \n",
    "    \n",
    "    # code \n",
    "    \n",
    "    \n",
    "    \n",
    "    #code\n",
    "else:\n",
    "    # code \n",
    "     \n",
    "        \n",
    "    #code\n"
   ]
  },
  {
   "cell_type": "code",
   "execution_count": 3,
   "id": "9091498c",
   "metadata": {},
   "outputs": [],
   "source": [
    "if 1>2:\n",
    "    print(1)"
   ]
  },
  {
   "cell_type": "code",
   "execution_count": 5,
   "id": "df98ab89",
   "metadata": {},
   "outputs": [
    {
     "name": "stdout",
     "output_type": "stream",
     "text": [
      "1\n"
     ]
    }
   ],
   "source": [
    "if 1<2:\n",
    "    print(1)\n",
    "else:\n",
    "    print(2)"
   ]
  },
  {
   "cell_type": "code",
   "execution_count": 6,
   "id": "095b1d63",
   "metadata": {},
   "outputs": [
    {
     "name": "stdout",
     "output_type": "stream",
     "text": [
      "2\n"
     ]
    }
   ],
   "source": [
    "if 1>2:\n",
    "    print(1)\n",
    "else:\n",
    "    print(2)"
   ]
  },
  {
   "cell_type": "code",
   "execution_count": 8,
   "id": "502f3c05",
   "metadata": {},
   "outputs": [
    {
     "name": "stdout",
     "output_type": "stream",
     "text": [
      "Enter num-6\n",
      "-ve\n"
     ]
    }
   ],
   "source": [
    "num = int(input(\"Enter num\"))\n",
    "\n",
    "if num>0:\n",
    "    print(\"+ve\")\n",
    "else:\n",
    "    print('-ve')"
   ]
  },
  {
   "cell_type": "code",
   "execution_count": 10,
   "id": "33f5ea34",
   "metadata": {},
   "outputs": [
    {
     "name": "stdout",
     "output_type": "stream",
     "text": [
      "Enter num63\n",
      "odd\n"
     ]
    }
   ],
   "source": [
    "num = int(input(\"Enter num\"))\n",
    "\n",
    "if num %2==0:\n",
    "    print(\"even\")\n",
    "else:\n",
    "    print(\"odd\")"
   ]
  },
  {
   "cell_type": "code",
   "execution_count": 1,
   "id": "1946577d",
   "metadata": {},
   "outputs": [
    {
     "name": "stdout",
     "output_type": "stream",
     "text": [
      "Enter num5\n",
      "+ve\n",
      "-ve\n"
     ]
    }
   ],
   "source": [
    "num = int(input(\"Enter num\"))\n",
    "\n",
    "if num>0:\n",
    "    print(\"+ve\")\n",
    "if num == 0:\n",
    "    print(\"0\")\n",
    "else:\n",
    "    print('-ve')"
   ]
  },
  {
   "cell_type": "code",
   "execution_count": 2,
   "id": "155bfbb4",
   "metadata": {},
   "outputs": [
    {
     "name": "stdout",
     "output_type": "stream",
     "text": [
      "Enter num52\n",
      "+ve\n"
     ]
    }
   ],
   "source": [
    "num = int(input(\"Enter num\"))\n",
    "\n",
    "if num>0:\n",
    "    print(\"+ve\")\n",
    "elif num == 0:\n",
    "    print(\"0\")\n",
    "else:\n",
    "    print('-ve')"
   ]
  },
  {
   "cell_type": "code",
   "execution_count": 5,
   "id": "edcfc6eb",
   "metadata": {},
   "outputs": [
    {
     "name": "stdout",
     "output_type": "stream",
     "text": [
      "ENter your age150\n",
      "Invalid age\n"
     ]
    }
   ],
   "source": [
    "num = int(input(\"ENter your age\"))\n",
    "if num >18 and num <100:\n",
    "    print(\"U can vote\")\n",
    "elif num <10 and num >0:\n",
    "    print(\"You are a child \")\n",
    "elif num >10 and num <18:\n",
    "    print(\"You are teenager, wait few years\")\n",
    "else:\n",
    "    print(\"Invalid age\")\n",
    "    "
   ]
  },
  {
   "cell_type": "code",
   "execution_count": null,
   "id": "704a3c55",
   "metadata": {},
   "outputs": [],
   "source": [
    "# >13 child\n",
    "# 13-19 teenager\n",
    "# 20-40 adult\n",
    "# 40-60 mid age \n",
    "# 60> senior citizen"
   ]
  },
  {
   "cell_type": "code",
   "execution_count": 10,
   "id": "8a4facc9",
   "metadata": {},
   "outputs": [
    {
     "name": "stdout",
     "output_type": "stream",
     "text": [
      "ENter num9\n",
      "Divisible by 3\n"
     ]
    }
   ],
   "source": [
    "num = int(input(\"ENter num\"))\n",
    "\n",
    "if (num %2==0) and (num %3==0):\n",
    "    print(\"Divisible by both 2 and 3\")\n",
    "elif (num %2==0):\n",
    "    print(\"Divisible by 2\")\n",
    "\n",
    "elif num%3==0:\n",
    "    print(\"Divisible by 3\")\n",
    "else:\n",
    "    print(\"not ivisible by both 2 and 3\")\n",
    "    "
   ]
  },
  {
   "cell_type": "code",
   "execution_count": 14,
   "id": "f6e4bd2f",
   "metadata": {},
   "outputs": [
    {
     "name": "stdout",
     "output_type": "stream",
     "text": [
      "input a number4\n",
      "even\n"
     ]
    }
   ],
   "source": [
    "a=int(input(\"input a number\"))\n",
    "\n",
    "if a%2==0:\n",
    "  print(\"even\")\n",
    "else:\n",
    "  print(\"odd\")\n",
    "\n"
   ]
  },
  {
   "cell_type": "code",
   "execution_count": 8,
   "id": "8181dc77",
   "metadata": {},
   "outputs": [],
   "source": [
    "email ='python@gmail.com'\n",
    "password = 'python1234'"
   ]
  },
  {
   "cell_type": "code",
   "execution_count": 3,
   "id": "97da4ac9",
   "metadata": {},
   "outputs": [
    {
     "name": "stdout",
     "output_type": "stream",
     "text": [
      "ENter a num52\n"
     ]
    }
   ],
   "source": [
    "var =int(input(\"ENter a num\"))"
   ]
  },
  {
   "cell_type": "code",
   "execution_count": 4,
   "id": "89f172dd",
   "metadata": {},
   "outputs": [
    {
     "data": {
      "text/plain": [
       "52"
      ]
     },
     "execution_count": 4,
     "metadata": {},
     "output_type": "execute_result"
    }
   ],
   "source": [
    "var"
   ]
  },
  {
   "cell_type": "code",
   "execution_count": 12,
   "id": "7ce11ae7",
   "metadata": {},
   "outputs": [
    {
     "name": "stdout",
     "output_type": "stream",
     "text": [
      "Enter your emailpy\n",
      "Enter your passwordpu\n",
      "Email or password incorrect\n"
     ]
    }
   ],
   "source": [
    "user_email=input(\"Enter your email\")\n",
    "user_pw = input(\"Enter your password\")\n",
    "\n",
    "if user_email == email and user_pw == password:\n",
    "    print(\"Login Successful\")\n",
    "elif user_email == email and user_pw != password:\n",
    "    print(\"Your password is incorrect\")\n",
    "    user_pw=input(\"Enter your password again\")\n",
    "    if user_pw == password:\n",
    "        print(\"Login successful\")\n",
    "    else:\n",
    "        print(\"Try again after 1 min\")\n",
    "else:\n",
    "    print(\"Email or password incorrect\")"
   ]
  },
  {
   "cell_type": "markdown",
   "id": "67b97225",
   "metadata": {},
   "source": [
    "## WHILE LOOP"
   ]
  },
  {
   "cell_type": "code",
   "execution_count": 15,
   "id": "4470da5a",
   "metadata": {},
   "outputs": [
    {
     "name": "stdout",
     "output_type": "stream",
     "text": [
      "1\n",
      "2\n",
      "3\n",
      "4\n",
      "5\n",
      "6\n",
      "7\n",
      "8\n",
      "9\n",
      "10\n",
      "11\n",
      "12\n",
      "13\n",
      "14\n",
      "15\n",
      "16\n",
      "17\n",
      "18\n",
      "19\n",
      "20\n"
     ]
    }
   ],
   "source": [
    "i=1\n",
    "while i<=20:\n",
    "    print(i)\n",
    "    i+=1"
   ]
  },
  {
   "cell_type": "code",
   "execution_count": 16,
   "id": "ae40bebd",
   "metadata": {},
   "outputs": [
    {
     "name": "stdout",
     "output_type": "stream",
     "text": [
      "1\n",
      "3\n",
      "5\n",
      "7\n",
      "9\n",
      "11\n",
      "13\n",
      "15\n",
      "17\n",
      "19\n"
     ]
    }
   ],
   "source": [
    "i=1\n",
    "while i<=20:\n",
    "    print(i)\n",
    "    i+=2"
   ]
  },
  {
   "cell_type": "code",
   "execution_count": 17,
   "id": "06a7de94",
   "metadata": {},
   "outputs": [
    {
     "name": "stdout",
     "output_type": "stream",
     "text": [
      "0\n",
      "2\n",
      "4\n",
      "6\n",
      "8\n",
      "10\n",
      "12\n",
      "14\n",
      "16\n",
      "18\n",
      "20\n"
     ]
    }
   ],
   "source": [
    "i=0\n",
    "while i<=20:\n",
    "    print(i)\n",
    "    i+=2"
   ]
  },
  {
   "cell_type": "code",
   "execution_count": 18,
   "id": "c2533edf",
   "metadata": {},
   "outputs": [
    {
     "name": "stdout",
     "output_type": "stream",
     "text": [
      "1\n",
      "2\n",
      "3\n",
      "4\n",
      "5\n",
      "6\n",
      "7\n",
      "8\n",
      "9\n",
      "10\n",
      "11\n",
      "12\n",
      "13\n",
      "14\n",
      "15\n",
      "16\n",
      "17\n",
      "18\n",
      "19\n",
      "20\n",
      "21\n",
      "22\n",
      "23\n",
      "24\n",
      "25\n",
      "26\n",
      "27\n",
      "28\n",
      "29\n",
      "30\n",
      "31\n",
      "32\n",
      "33\n",
      "34\n",
      "35\n",
      "36\n",
      "37\n",
      "38\n",
      "39\n",
      "40\n",
      "41\n",
      "42\n",
      "43\n",
      "44\n",
      "45\n",
      "46\n",
      "47\n",
      "48\n",
      "49\n",
      "50\n",
      "51\n",
      "52\n",
      "53\n",
      "54\n",
      "55\n",
      "56\n",
      "57\n",
      "58\n",
      "59\n",
      "60\n",
      "61\n",
      "62\n",
      "63\n",
      "64\n",
      "65\n",
      "66\n",
      "67\n",
      "68\n",
      "69\n",
      "70\n",
      "71\n",
      "72\n",
      "73\n",
      "74\n",
      "75\n",
      "76\n",
      "77\n",
      "78\n",
      "79\n",
      "80\n",
      "81\n",
      "82\n",
      "83\n",
      "84\n",
      "85\n",
      "86\n",
      "87\n",
      "88\n",
      "89\n",
      "90\n",
      "91\n",
      "92\n",
      "93\n",
      "94\n",
      "95\n",
      "96\n",
      "97\n",
      "98\n",
      "99\n",
      "100\n"
     ]
    }
   ],
   "source": [
    "i=1\n",
    "while i<=100:\n",
    "    print(i)\n",
    "    i+=1"
   ]
  },
  {
   "cell_type": "code",
   "execution_count": 22,
   "id": "f43252d5",
   "metadata": {},
   "outputs": [
    {
     "name": "stdout",
     "output_type": "stream",
     "text": [
      "ENter num to print a table for 29\n",
      "29 * 1 = 29\n",
      "29 * 2 = 58\n",
      "29 * 3 = 87\n",
      "29 * 4 = 116\n",
      "29 * 5 = 145\n",
      "29 * 6 = 174\n",
      "29 * 7 = 203\n",
      "29 * 8 = 232\n",
      "29 * 9 = 261\n",
      "29 * 10 = 290\n"
     ]
    }
   ],
   "source": [
    "num=int(input(\"ENter num to print a table for \"))\n",
    "i=1\n",
    "while i<=10:\n",
    "    print(f\"{num} * {i} = {num*i}\")\n",
    "    i+=1"
   ]
  },
  {
   "cell_type": "code",
   "execution_count": 30,
   "id": "3fbca7b3",
   "metadata": {},
   "outputs": [
    {
     "name": "stdout",
     "output_type": "stream",
     "text": [
      "1\n",
      "2\n",
      "6\n",
      "24\n",
      "120\n"
     ]
    }
   ],
   "source": [
    "num = 5\n",
    "i = 1\n",
    "prod=1\n",
    "while(i<=5):\n",
    "    prod*=i\n",
    "    i+=1\n",
    "    print(prod)"
   ]
  },
  {
   "cell_type": "code",
   "execution_count": 31,
   "id": "8ef26c89",
   "metadata": {},
   "outputs": [
    {
     "name": "stdout",
     "output_type": "stream",
     "text": [
      "5\n",
      "20\n",
      "60\n",
      "120\n",
      "120\n"
     ]
    }
   ],
   "source": [
    "num = 5\n",
    "i = 5\n",
    "prod=1\n",
    "while(i>=1):\n",
    "    prod*=i\n",
    "    i-=1\n",
    "    print(prod)"
   ]
  },
  {
   "cell_type": "code",
   "execution_count": 32,
   "id": "0633b847",
   "metadata": {},
   "outputs": [],
   "source": [
    "## 3 sides\n",
    "\n",
    "# equilateral -> 3 sides same\n",
    "# Scalene-> 3 sides unequal\n",
    "# isosceles-> 2 sides same"
   ]
  },
  {
   "cell_type": "code",
   "execution_count": 33,
   "id": "45676ed3",
   "metadata": {},
   "outputs": [],
   "source": [
    "# print all even number between 2 given numbers"
   ]
  },
  {
   "cell_type": "code",
   "execution_count": 48,
   "id": "47ed7528",
   "metadata": {},
   "outputs": [],
   "source": [
    "num = 123\n"
   ]
  },
  {
   "cell_type": "code",
   "execution_count": 49,
   "id": "5973bee5",
   "metadata": {
    "scrolled": true
   },
   "outputs": [
    {
     "data": {
      "text/plain": [
       "3"
      ]
     },
     "execution_count": 49,
     "metadata": {},
     "output_type": "execute_result"
    }
   ],
   "source": [
    "num %10"
   ]
  },
  {
   "cell_type": "code",
   "execution_count": 47,
   "id": "0cf7e09d",
   "metadata": {},
   "outputs": [],
   "source": [
    "a =num%10"
   ]
  },
  {
   "cell_type": "code",
   "execution_count": 41,
   "id": "6d41c6a3",
   "metadata": {},
   "outputs": [],
   "source": [
    "num=num//10"
   ]
  },
  {
   "cell_type": "code",
   "execution_count": 39,
   "id": "23b7ef2e",
   "metadata": {},
   "outputs": [],
   "source": [
    "b=num%10"
   ]
  },
  {
   "cell_type": "code",
   "execution_count": 40,
   "id": "f2cbea1c",
   "metadata": {},
   "outputs": [
    {
     "data": {
      "text/plain": [
       "2"
      ]
     },
     "execution_count": 40,
     "metadata": {},
     "output_type": "execute_result"
    }
   ],
   "source": [
    "b"
   ]
  },
  {
   "cell_type": "code",
   "execution_count": 52,
   "id": "b9fc8fbb",
   "metadata": {},
   "outputs": [
    {
     "data": {
      "text/plain": [
       "12"
      ]
     },
     "execution_count": 52,
     "metadata": {},
     "output_type": "execute_result"
    }
   ],
   "source": [
    "num//10"
   ]
  },
  {
   "cell_type": "code",
   "execution_count": 55,
   "id": "81521528",
   "metadata": {},
   "outputs": [
    {
     "name": "stdout",
     "output_type": "stream",
     "text": [
      "ENter 3 digit num1234\n",
      "10\n"
     ]
    }
   ],
   "source": [
    "num = int(input(\"ENter 3 digit num\"))\n",
    "r = 0\n",
    "s=0\n",
    "while num!=0:\n",
    "    r=num%10\n",
    "    s=s+r\n",
    "    num=num//10\n",
    "print(s)"
   ]
  },
  {
   "cell_type": "code",
   "execution_count": null,
   "id": "895c2be7",
   "metadata": {},
   "outputs": [],
   "source": []
  }
 ],
 "metadata": {
  "kernelspec": {
   "display_name": "Python 3 (ipykernel)",
   "language": "python",
   "name": "python3"
  },
  "language_info": {
   "codemirror_mode": {
    "name": "ipython",
    "version": 3
   },
   "file_extension": ".py",
   "mimetype": "text/x-python",
   "name": "python",
   "nbconvert_exporter": "python",
   "pygments_lexer": "ipython3",
   "version": "3.11.5"
  }
 },
 "nbformat": 4,
 "nbformat_minor": 5
}
